{
 "cells": [
  {
   "cell_type": "code",
   "execution_count": 1,
   "metadata": {},
   "outputs": [],
   "source": [
    "import os\n",
    "import requests\n",
    "cred_url = os.environ[\"QCLOUD_CONTAINER_INSTANCE_CREDENTIALS_URL\"]\n",
    "r = requests.get(cred_url)\n",
    "secretId = r.json()[\"TmpSecretId\"]\n",
    "secretKey = r.json()[\"TmpSecretKey\"]\n",
    "token = r.json()[\"Token\"]"
   ]
  },
  {
   "cell_type": "code",
   "execution_count": 12,
   "metadata": {},
   "outputs": [],
   "source": [
    "import os\n",
    "from qcloud_cos import CosConfig\n",
    "from qcloud_cos import CosS3Client\n",
    "from ti.utils import get_temporary_secret_and_token\n",
    "\n",
    "#### 指定本地文件路径，可根据需要修改。\n",
    "local_file = \"/home/tione/notebook/data/train_data.zip\"\n",
    "\n",
    "#### 用户的存储桶，修改为存放所需数据文件的存储桶，存储桶获取参考腾讯云对象存储\n",
    "bucket=\"hc-02-1258788535\"\n",
    "\n",
    "#### 用户的数据，修改为对应的数据文件路径，文件路径获取参考腾讯云对象存储\n",
    "data_key=\"BDC/train_data.zip\"\n",
    "\n",
    "#### 获取用户临时密钥\n",
    "secret_id, secret_key, token = get_temporary_secret_and_token()\n",
    "config = CosConfig(Region=os.environ.get('REGION'), SecretId=secret_id, SecretKey=secret_key, Token=token, Scheme='https')\n",
    "client = CosS3Client(config)\n",
    "\n",
    "####  获取文件到本地\n",
    "response = client.get_object(\n",
    "    Bucket=bucket,\n",
    "    Key=data_key,\n",
    ")\n",
    "response['Body'].get_stream_to_file(local_file)"
   ]
  },
  {
   "cell_type": "code",
   "execution_count": null,
   "metadata": {},
   "outputs": [],
   "source": []
  },
  {
   "cell_type": "code",
   "execution_count": null,
   "metadata": {},
   "outputs": [],
   "source": []
  },
  {
   "cell_type": "code",
   "execution_count": 8,
   "metadata": {},
   "outputs": [],
   "source": [
    "import pandas as pd \n",
    "import numpy as np \n",
    "from tqdm import tqdm \n",
    "import datetime, time, gc \n",
    "from utils import distance, haversine, standard, pad_seq, geohash_encode\n",
    "from scipy.stats import skew, kurtosis\n",
    "from zipfile import ZipFile\n",
    "from collections import Counter \n",
    "from sklearn.metrics import mean_squared_error as mse \n",
    "import lightgbm as lgb\n",
    "from sklearn.model_selection import KFold\n",
    "from sklearn.model_selection import GroupKFold\n",
    "import collections \n",
    "from geopy import distance \n",
    "\n",
    "pd.set_option('display.max_rows', 500)\n",
    "pd.set_option('display.max_columns', 500)"
   ]
  },
  {
   "cell_type": "code",
   "execution_count": 21,
   "metadata": {},
   "outputs": [],
   "source": [
    "# !pip install geopy"
   ]
  },
  {
   "cell_type": "code",
   "execution_count": 2,
   "metadata": {},
   "outputs": [],
   "source": [
    "# %%time\n",
    "\n",
    "# myzip=ZipFile('data/train0711.zip')\n",
    "# f=myzip.open('train0711.csv')\n",
    "# train_df=pd.read_csv(f,  header=None)\n",
    "# print(train_df.head())\n",
    "# f.close()\n",
    "# myzip.close() \n",
    "\n",
    "# print(train_df.shape)\n",
    "# train_df = train_df.drop_duplicates().reset_index(drop=True)\n",
    "# print(train_df.shape)\n",
    "# train_df.columns=['loadingOrder', 'carrierName', 'timestamp', 'longitude', 'latitude', 'vesselMMSI', 'speed', 'direction', 'vesselNextport',\n",
    "#                   'vesselNextportETA', 'vesselStatus', 'vesselDatasource', 'TRANSPORT_TRACE']\n",
    "# train_df = train_df.drop(['vesselNextport', 'vesselNextportETA', 'vesselStatus', 'vesselDatasource'], axis=1)\n",
    "# train_df.sort_values(['loadingOrder', 'timestamp'], inplace=True)\n",
    "\n",
    "# train_df = train_df[train_df['TRANSPORT_TRACE'].notnull()] \n",
    "\n",
    "# train_df = train_df.reset_index(drop=True)\n",
    "\n",
    "# print(train_df.shape)\n",
    "\n",
    "# train_list = train_df.groupby('loadingOrder').agg({'longitude': list, 'latitude': list, 'speed': list,  'direction': list, \n",
    "#                                                   'carrierName': lambda x: x[0],\n",
    "#                                                   'vesselMMSI': lambda x: x[0], \n",
    "#                                                   'timestamp': list,\n",
    "#                                                   'TRANSPORT_TRACE': lambda x: x[0]}).reset_index()"
   ]
  },
  {
   "cell_type": "code",
   "execution_count": null,
   "metadata": {},
   "outputs": [],
   "source": []
  },
  {
   "cell_type": "code",
   "execution_count": 3,
   "metadata": {},
   "outputs": [],
   "source": [
    "# test=pd.read_csv('data/R2_ATest 0711.csv')\n",
    "# print(test.shape) \n",
    "# test = test.drop_duplicates(['loadingOrder', 'timestamp'])\n",
    "# print(test.shape)\n",
    "\n",
    "# test = test.sort_values(['loadingOrder', 'timestamp']).reset_index(drop=True)\n",
    "\n",
    "# test_list = test.groupby('loadingOrder').agg({'longitude': list, 'latitude': list, 'speed': list,  'direction': list, \n",
    "#                                       'carrierName': lambda x: x[0],\n",
    "#                                       'vesselMMSI': lambda x: x[0], \n",
    "#                                       'timestamp': list,\n",
    "#                                       'onboardDate': lambda x: x[0], \n",
    "#                                       'TRANSPORT_TRACE': lambda x: x[0]}).reset_index()\n",
    "\n",
    "\n",
    "# test_train_trace_diff = set(test_list.TRANSPORT_TRACE.unique()) -set(train_list.TRANSPORT_TRACE.unique())\n",
    "\n",
    "# test_trace_unique = set(test_list.TRANSPORT_TRACE.unique())\n",
    "# train_trace_unique = set(train_list.TRANSPORT_TRACE.unique())\n",
    "\n",
    "# trace_intersect = set(test_list.TRANSPORT_TRACE.unique()) & set(train_list.TRANSPORT_TRACE.unique())\n",
    "# trace_other = set()\n",
    "# for x1 in test_train_trace_diff:\n",
    "#     print(x1)\n",
    "#     for x in train_trace_unique:\n",
    "#         if len(set(x.split('-')[:2]) & set(x1.split('-'))) == 2 and x not in trace_intersect:\n",
    "#             trace_other.add(x)\n",
    "            \n",
    "# train_in = train_list[train_list['TRANSPORT_TRACE'].isin(trace_intersect)].reset_index(drop=True)\n",
    "# train_out = train_list[train_list['TRANSPORT_TRACE'].isin(trace_other)].reset_index(drop=True)\n",
    "\n",
    "# train_in.to_pickle(\"train_in_0718.pkl\")\n",
    "# train_out.to_pickle(\"train_out_0718.pkl\")"
   ]
  },
  {
   "cell_type": "code",
   "execution_count": 4,
   "metadata": {},
   "outputs": [],
   "source": [
    "train_in = pd.read_pickle(\"train_in_0718.pkl\")\n",
    "train_out = pd.read_pickle(\"train_out_0718.pkl\")"
   ]
  },
  {
   "cell_type": "code",
   "execution_count": 5,
   "metadata": {},
   "outputs": [
    {
     "name": "stdout",
     "output_type": "stream",
     "text": [
      "(77654, 10)\n",
      "(59386, 10)\n"
     ]
    }
   ],
   "source": [
    "test=pd.read_csv('data/R2_ATest 0711.csv')\n",
    "print(test.shape) \n",
    "test = test.drop_duplicates(['loadingOrder', 'timestamp'])\n",
    "print(test.shape)\n",
    "\n",
    "test = test.sort_values(['loadingOrder', 'timestamp']).reset_index(drop=True)\n",
    "\n",
    "test_list = test.groupby('loadingOrder').agg({'longitude': list, 'latitude': list, 'speed': list,  'direction': list, \n",
    "                                      'carrierName': lambda x: x[0],\n",
    "                                      'vesselMMSI': lambda x: x[0], \n",
    "                                      'timestamp': list,\n",
    "                                      'onboardDate': lambda x: x[0], \n",
    "                                      'TRANSPORT_TRACE': lambda x: x[0]}).reset_index()"
   ]
  },
  {
   "cell_type": "code",
   "execution_count": 10,
   "metadata": {},
   "outputs": [],
   "source": [
    "ports_info=pd.read_csv('data/port.csv')\n",
    "\n",
    "port_GPS_dict=collections.defaultdict(list)\n",
    "for _,row in ports_info.iterrows():\n",
    "    port_GPS_dict[row['TRANS_NODE_NAME']].append((row['LONGITUDE'],row['LATITUDE']))"
   ]
  },
  {
   "cell_type": "code",
   "execution_count": 13,
   "metadata": {
    "scrolled": true
   },
   "outputs": [
    {
     "data": {
      "text/plain": [
       "[(114.11075500000001, 22.335179)]"
      ]
     },
     "execution_count": 13,
     "metadata": {},
     "output_type": "execute_result"
    }
   ],
   "source": [
    "port_GPS_dict['HON']"
   ]
  },
  {
   "cell_type": "code",
   "execution_count": 16,
   "metadata": {},
   "outputs": [
    {
     "data": {
      "text/html": [
       "<div>\n",
       "<style scoped>\n",
       "    .dataframe tbody tr th:only-of-type {\n",
       "        vertical-align: middle;\n",
       "    }\n",
       "\n",
       "    .dataframe tbody tr th {\n",
       "        vertical-align: top;\n",
       "    }\n",
       "\n",
       "    .dataframe thead th {\n",
       "        text-align: right;\n",
       "    }\n",
       "</style>\n",
       "<table border=\"1\" class=\"dataframe\">\n",
       "  <thead>\n",
       "    <tr style=\"text-align: right;\">\n",
       "      <th></th>\n",
       "      <th>loadingOrder</th>\n",
       "      <th>longitude</th>\n",
       "      <th>latitude</th>\n",
       "      <th>speed</th>\n",
       "      <th>direction</th>\n",
       "      <th>carrierName</th>\n",
       "      <th>vesselMMSI</th>\n",
       "      <th>timestamp</th>\n",
       "      <th>onboardDate</th>\n",
       "      <th>TRANSPORT_TRACE</th>\n",
       "    </tr>\n",
       "  </thead>\n",
       "  <tbody>\n",
       "    <tr>\n",
       "      <th>0</th>\n",
       "      <td>AC437723355280</td>\n",
       "      <td>[113.895823, 113.917878, 113.97771200000001, 1...</td>\n",
       "      <td>[22.383463, 22.360128, 22.345253, 22.34531, 22...</td>\n",
       "      <td>[26, 27, 23, 23, 23, 23, 23, 23, 23, 20, 17, 1...</td>\n",
       "      <td>[16060, 11910, 8620, 9110, 9010, 9010, 9030, 8...</td>\n",
       "      <td>JCMFTA</td>\n",
       "      <td>G9916514058</td>\n",
       "      <td>[2019-06-23T02:53:18.000Z, 2019-06-23T03:01:28...</td>\n",
       "      <td>2019/06/23  02:53:18</td>\n",
       "      <td>CNSHK-CLVAP</td>\n",
       "    </tr>\n",
       "  </tbody>\n",
       "</table>\n",
       "</div>"
      ],
      "text/plain": [
       "     loadingOrder                                          longitude  \\\n",
       "0  AC437723355280  [113.895823, 113.917878, 113.97771200000001, 1...   \n",
       "\n",
       "                                            latitude  \\\n",
       "0  [22.383463, 22.360128, 22.345253, 22.34531, 22...   \n",
       "\n",
       "                                               speed  \\\n",
       "0  [26, 27, 23, 23, 23, 23, 23, 23, 23, 20, 17, 1...   \n",
       "\n",
       "                                           direction carrierName   vesselMMSI  \\\n",
       "0  [16060, 11910, 8620, 9110, 9010, 9010, 9030, 8...      JCMFTA  G9916514058   \n",
       "\n",
       "                                           timestamp           onboardDate  \\\n",
       "0  [2019-06-23T02:53:18.000Z, 2019-06-23T03:01:28...  2019/06/23  02:53:18   \n",
       "\n",
       "  TRANSPORT_TRACE  \n",
       "0     CNSHK-CLVAP  "
      ]
     },
     "execution_count": 16,
     "metadata": {},
     "output_type": "execute_result"
    }
   ],
   "source": [
    "test_list.head(1)"
   ]
  },
  {
   "cell_type": "code",
   "execution_count": 28,
   "metadata": {},
   "outputs": [
    {
     "data": {
      "text/plain": [
       "11.9020069873288"
      ]
     },
     "execution_count": 28,
     "metadata": {},
     "output_type": "execute_result"
    }
   ],
   "source": [
    "distance.distance((22.48627, 113.8621), (22.383463, 113.895823)).km"
   ]
  },
  {
   "cell_type": "code",
   "execution_count": 27,
   "metadata": {},
   "outputs": [
    {
     "data": {
      "text/plain": [
       "array([ 0,  1,  2,  3,  4,  5,  6,  7,  8,  9, 10, 11, 12, 13, 14, 15, 16,\n",
       "       17, 18, 19, 20, 21, 22, 23, 24, 25, 26, 27, 28, 29])"
      ]
     },
     "execution_count": 27,
     "metadata": {},
     "output_type": "execute_result"
    }
   ],
   "source": [
    "np.arange(30)"
   ]
  },
  {
   "cell_type": "code",
   "execution_count": 43,
   "metadata": {},
   "outputs": [
    {
     "name": "stdout",
     "output_type": "stream",
     "text": [
      "loadingOrder                                          AC437723355280\n",
      "longitude          [113.895823, 113.917878, 113.97771200000001, 1...\n",
      "latitude           [22.383463, 22.360128, 22.345253, 22.34531, 22...\n",
      "speed              [26, 27, 23, 23, 23, 23, 23, 23, 23, 20, 17, 1...\n",
      "direction          [16060, 11910, 8620, 9110, 9010, 9010, 9030, 8...\n",
      "carrierName                                                   JCMFTA\n",
      "vesselMMSI                                               G9916514058\n",
      "timestamp          [2019-06-23T02:53:18.000Z, 2019-06-23T03:01:28...\n",
      "onboardDate                                     2019/06/23  02:53:18\n",
      "TRANSPORT_TRACE                                          CNSHK-CLVAP\n",
      "Name: 0, dtype: object\n",
      "webz rs5x\n",
      "['webz', 'webz', 'webz', 'webz', 'webz', 'webz', 'webz', 'webz', 'webz', 'webz'] ['66jh', '66jh', '66jh', '66jh', '66jh', '66jh', '66jh', '66jh', '66jh', '66jh']\n",
      "0\n",
      "8945\n",
      "33467\n"
     ]
    }
   ],
   "source": [
    "for i in range(test_list.shape[0]):\n",
    "    test_line = test_list.iloc[i]\n",
    "    print(test_line)\n",
    "    first_latlon = (test_line['latitude'][0], test_line['longitude'][0])  # lat lon\n",
    "    \n",
    "    last_latlon = (test_line['latitude'][-1], test_line['longitude'][-1])\n",
    "    first_hash4 = geohash_encode(first_latlon[1], first_latlon[0], precision=4)\n",
    "    last_hash4 = geohash_encode(last_latlon[1], last_latlon[0], precision=4)\n",
    "    print(first_hash4, last_hash4)\n",
    "    test_line_len = len(test_line['longitude'])\n",
    "    \n",
    "    for j in range(train_in.shape[0]):\n",
    "        train_line = train_in.iloc[j]\n",
    "        if train_line['TRANSPORT_TRACE'] != test_line['TRANSPORT_TRACE']:\n",
    "            continue\n",
    "        train_line_len = len(train_line['longitude'])   # 单条长度\n",
    "        lat, lon = train_line['latitude'], train_line['longitude']\n",
    "        line_latlon = [(lat[i], lon[i]) for i in range(train_line_len)]\n",
    "        line_hash4 = [geohash_encode(lon[i], lat[i], precision=4) for i in range(train_line_len)]\n",
    "        print(line_hash4[:10], line_hash4[-10:])\n",
    "        print(line_hash4.index(first_hash4))\n",
    "        print(line_hash4.index(last_hash4))\n",
    "        print(line_hash4[::-1].index(last_hash4))\n",
    "        break\n",
    "        # first_dist = [distance.distance(latlon, first_latlon).km for latlon in line_latlon]\n",
    "        \n",
    "        #print(first_dist)\n",
    "\n",
    "    break "
   ]
  },
  {
   "cell_type": "code",
   "execution_count": 42,
   "metadata": {},
   "outputs": [
    {
     "data": {
      "text/plain": [
       "(334, 42477)"
      ]
     },
     "execution_count": 42,
     "metadata": {},
     "output_type": "execute_result"
    }
   ],
   "source": [
    "test_line_len, train_line_len"
   ]
  },
  {
   "cell_type": "code",
   "execution_count": 39,
   "metadata": {},
   "outputs": [
    {
     "data": {
      "text/html": [
       "<div>\n",
       "<style scoped>\n",
       "    .dataframe tbody tr th:only-of-type {\n",
       "        vertical-align: middle;\n",
       "    }\n",
       "\n",
       "    .dataframe tbody tr th {\n",
       "        vertical-align: top;\n",
       "    }\n",
       "\n",
       "    .dataframe thead th {\n",
       "        text-align: right;\n",
       "    }\n",
       "</style>\n",
       "<table border=\"1\" class=\"dataframe\">\n",
       "  <thead>\n",
       "    <tr style=\"text-align: right;\">\n",
       "      <th></th>\n",
       "      <th>loadingOrder</th>\n",
       "      <th>longitude</th>\n",
       "      <th>latitude</th>\n",
       "      <th>speed</th>\n",
       "      <th>direction</th>\n",
       "      <th>carrierName</th>\n",
       "      <th>vesselMMSI</th>\n",
       "      <th>timestamp</th>\n",
       "      <th>onboardDate</th>\n",
       "      <th>TRANSPORT_TRACE</th>\n",
       "    </tr>\n",
       "  </thead>\n",
       "  <tbody>\n",
       "    <tr>\n",
       "      <th>45</th>\n",
       "      <td>GD501404074416</td>\n",
       "      <td>[14.189217000000001, 14.454867000000002, 14.45...</td>\n",
       "      <td>[44.974016999999996, 45.31955, 45.319483, 45.3...</td>\n",
       "      <td>[32, 0, 0, 0, 0, 0, 0, 0, 0, 0, 0, 0, 0, 0, 0,...</td>\n",
       "      <td>[2000, 4800, 1700, 32100, 22400, 400, 21400, 2...</td>\n",
       "      <td>RWHZVZ</td>\n",
       "      <td>T1268450013</td>\n",
       "      <td>[2019-02-26T11:42:08.000Z, 2019-02-26T17:52:38...</td>\n",
       "      <td>2019/02/26  11:42:08</td>\n",
       "      <td>HUNGARY-HON</td>\n",
       "    </tr>\n",
       "  </tbody>\n",
       "</table>\n",
       "</div>"
      ],
      "text/plain": [
       "      loadingOrder                                          longitude  \\\n",
       "45  GD501404074416  [14.189217000000001, 14.454867000000002, 14.45...   \n",
       "\n",
       "                                             latitude  \\\n",
       "45  [44.974016999999996, 45.31955, 45.319483, 45.3...   \n",
       "\n",
       "                                                speed  \\\n",
       "45  [32, 0, 0, 0, 0, 0, 0, 0, 0, 0, 0, 0, 0, 0, 0,...   \n",
       "\n",
       "                                            direction carrierName  \\\n",
       "45  [2000, 4800, 1700, 32100, 22400, 400, 21400, 2...      RWHZVZ   \n",
       "\n",
       "     vesselMMSI                                          timestamp  \\\n",
       "45  T1268450013  [2019-02-26T11:42:08.000Z, 2019-02-26T17:52:38...   \n",
       "\n",
       "             onboardDate TRANSPORT_TRACE  \n",
       "45  2019/02/26  11:42:08     HUNGARY-HON  "
      ]
     },
     "execution_count": 39,
     "metadata": {},
     "output_type": "execute_result"
    }
   ],
   "source": [
    "test_list[test_list['TRANSPORT_TRACE'] == 'HUNGARY-HON']"
   ]
  },
  {
   "cell_type": "code",
   "execution_count": 7,
   "metadata": {},
   "outputs": [
    {
     "name": "stdout",
     "output_type": "stream",
     "text": [
      "              total        used        free      shared  buff/cache   available\n",
      "Mem:          96166       26443       51604          18       18117       69559\n",
      "Swap:             0           0           0\n"
     ]
    }
   ],
   "source": [
    "!free -m"
   ]
  },
  {
   "cell_type": "code",
   "execution_count": null,
   "metadata": {},
   "outputs": [],
   "source": []
  }
 ],
 "metadata": {
  "kernelspec": {
   "display_name": "conda_python3",
   "language": "python",
   "name": "conda_python3"
  },
  "language_info": {
   "codemirror_mode": {
    "name": "ipython",
    "version": 3
   },
   "file_extension": ".py",
   "mimetype": "text/x-python",
   "name": "python",
   "nbconvert_exporter": "python",
   "pygments_lexer": "ipython3",
   "version": "3.6.5"
  }
 },
 "nbformat": 4,
 "nbformat_minor": 4
}
