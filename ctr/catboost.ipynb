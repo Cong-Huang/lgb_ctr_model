{
 "cells": [
  {
   "cell_type": "code",
   "execution_count": 1,
   "metadata": {
    "scrolled": true
   },
   "outputs": [
    {
     "name": "stdout",
     "output_type": "stream",
     "text": [
      "Looking in indexes: http://mirrors.tencentyun.com/pypi/simple\n",
      "Collecting catboost\n",
      "  Downloading http://mirrors.tencentyun.com/pypi/packages/96/6c/6608210b29649267de52001b09e369777ee2a5cfe1c71fa75eba82a4f2dc/catboost-0.24-cp36-none-manylinux1_x86_64.whl (65.9 MB)\n",
      "\u001b[K     |████████████████████████████████| 65.9 MB 9.6 MB/s eta 0:00:011\n",
      "\u001b[?25hRequirement already satisfied: pandas>=0.24.0 in /opt/conda/envs/python3/lib/python3.6/site-packages (from catboost) (1.0.5)\n",
      "Requirement already satisfied: numpy>=1.16.0 in /opt/conda/envs/python3/lib/python3.6/site-packages (from catboost) (1.18.5)\n",
      "Collecting plotly\n",
      "  Downloading http://mirrors.tencentyun.com/pypi/packages/bf/5f/47ab0d9d843c5be0f5c5bd891736a4c84fa45c3b0a0ddb6b6df7c098c66f/plotly-4.9.0-py2.py3-none-any.whl (12.9 MB)\n",
      "\u001b[K     |████████████████████████████████| 12.9 MB 15.3 MB/s eta 0:00:01\n",
      "\u001b[?25hCollecting graphviz\n",
      "  Downloading http://mirrors.tencentyun.com/pypi/packages/62/dc/9dd6a6b9b8977248e165e075b109eea6e8eac71faa28ca378c3d98e54fbe/graphviz-0.14.1-py2.py3-none-any.whl (18 kB)\n",
      "Requirement already satisfied: six in /opt/conda/envs/python3/lib/python3.6/site-packages (from catboost) (1.15.0)\n",
      "Requirement already satisfied: scipy in /opt/conda/envs/python3/lib/python3.6/site-packages (from catboost) (1.5.0)\n",
      "Requirement already satisfied: matplotlib in /opt/conda/envs/python3/lib/python3.6/site-packages (from catboost) (2.2.2)\n",
      "Requirement already satisfied: python-dateutil>=2.6.1 in /opt/conda/envs/python3/lib/python3.6/site-packages (from pandas>=0.24.0->catboost) (2.8.1)\n",
      "Requirement already satisfied: pytz>=2017.2 in /opt/conda/envs/python3/lib/python3.6/site-packages (from pandas>=0.24.0->catboost) (2020.1)\n",
      "Collecting retrying>=1.3.3\n",
      "  Downloading http://mirrors.tencentyun.com/pypi/packages/44/ef/beae4b4ef80902f22e3af073397f079c96969c69b2c7d52a57ea9ae61c9d/retrying-1.3.3.tar.gz (10 kB)\n",
      "Requirement already satisfied: cycler>=0.10 in /opt/conda/envs/python3/lib/python3.6/site-packages (from matplotlib->catboost) (0.10.0)\n",
      "Requirement already satisfied: pyparsing!=2.0.4,!=2.1.2,!=2.1.6,>=2.0.1 in /opt/conda/envs/python3/lib/python3.6/site-packages (from matplotlib->catboost) (2.4.7)\n",
      "Requirement already satisfied: kiwisolver>=1.0.1 in /opt/conda/envs/python3/lib/python3.6/site-packages (from matplotlib->catboost) (1.2.0)\n",
      "Building wheels for collected packages: retrying\n",
      "  Building wheel for retrying (setup.py) ... \u001b[?25ldone\n",
      "\u001b[?25h  Created wheel for retrying: filename=retrying-1.3.3-py3-none-any.whl size=11430 sha256=29aa84b171fd01706a8d19844dc2cde136bab1ae72d36ee3afcc22b0b948804c\n",
      "  Stored in directory: /home/tione/.cache/pip/wheels/f4/d2/64/0dac67a06d2fbcfdc9a26fe0cfaa7b3ac86c6b593f8f0d2880\n",
      "Successfully built retrying\n",
      "Installing collected packages: retrying, plotly, graphviz, catboost\n",
      "Successfully installed catboost-0.24 graphviz-0.14.1 plotly-4.9.0 retrying-1.3.3\n"
     ]
    }
   ],
   "source": [
    "# !pip install catboost"
   ]
  },
  {
   "cell_type": "code",
   "execution_count": 1,
   "metadata": {},
   "outputs": [],
   "source": [
    "import pandas as pd\n",
    "import numpy as np\n",
    "from tqdm import tqdm\n",
    "import datetime, time, gc\n",
    "# from utils import distance, haversine, standard, pad_seq \n",
    "from scipy.stats import skew, kurtosis\n",
    "from catboost import CatBoostClassifier\n",
    "from zipfile import ZipFile\n",
    "from collections import Counter \n",
    "from sklearn.metrics import roc_auc_score as auc\n",
    "# import lightgbm as lgb\n",
    "from sklearn.model_selection import KFold\n",
    "from sklearn.model_selection import GroupKFold\n",
    "from sklearn.preprocessing import LabelEncoder\n",
    "from sklearn.metrics import roc_auc_score\n",
    "\n",
    "pd.set_option('display.max_rows', 500)\n",
    "pd.set_option('display.max_columns', 500)"
   ]
  },
  {
   "cell_type": "code",
   "execution_count": 2,
   "metadata": {},
   "outputs": [],
   "source": [
    "# !pip install tables"
   ]
  },
  {
   "cell_type": "code",
   "execution_count": 3,
   "metadata": {},
   "outputs": [],
   "source": [
    "train_fea = pd.read_hdf(\"data/train_1kw_fea.hdf\", 'df')\n",
    "test_fea = pd.read_hdf(\"data/test_1kw_fea.hdf\", 'df') \n",
    "\n",
    "uid_emb = pd.read_hdf(\"data/feature_uid_embed.hdf\", 'df')\n",
    "ua_pagerank = pd.read_hdf(\"data/feature_uq_pagerank.hdf\", 'df')\n",
    "\n",
    "train_fea = train_fea.merge(uid_emb, on='uid', how='left')\n",
    "test_fea = test_fea.merge(uid_emb, on='uid', how='left')\n",
    "\n",
    "train_fea = pd.concat([train_fea, ua_pagerank.iloc[:-1000000]], axis=1)\n",
    "test_fea = pd.concat([test_fea, ua_pagerank.iloc[-1000000:]], axis=1)"
   ]
  },
  {
   "cell_type": "code",
   "execution_count": 4,
   "metadata": {},
   "outputs": [],
   "source": [
    "X_train = train_fea[train_fea[\"pt_d\"]<=6].copy()\n",
    "y_train = X_train[\"label\"].astype('int32')\n",
    "X_valid = train_fea[train_fea[\"pt_d\"]>6]\n",
    "y_valid = X_valid[\"label\"].astype('int32')"
   ]
  },
  {
   "cell_type": "code",
   "execution_count": 6,
   "metadata": {},
   "outputs": [
    {
     "name": "stdout",
     "output_type": "stream",
     "text": [
      "167 23\n"
     ]
    }
   ],
   "source": [
    "cate_cols = [\n",
    "       'uid', 'task_id', 'adv_id', 'creat_type_cd', 'adv_prim_id',\n",
    "       'dev_id', 'inter_type_cd', 'slot_id', 'spread_app_id', 'tags',\n",
    "       'app_first_class', 'app_second_class', 'city',\n",
    "       'device_name', 'career', 'gender', 'net_type',\n",
    "       'residence', 'his_on_shelf_time', \"communication_onlinerate\", \n",
    "       'up_membership_grade', 'consume_purchase', 'indu_name',\n",
    "]\n",
    "\n",
    "use_cols = list( set(train_fea.columns) - set(['label', 'cnt', 'random_sector', 'pt_d',\n",
    "        'uid_task_id_ctr', 'uid_adv_id_ctr', 'uid_spread_app_id_ctr', 'uid_adv_prim_id_ctr', 'uid_dev_id_ctr',\n",
    "        'uid_app_second_class_ctr']))\n",
    "\n",
    "print(len(use_cols), len(cate_cols))  "
   ]
  },
  {
   "cell_type": "code",
   "execution_count": 8,
   "metadata": {},
   "outputs": [
    {
     "name": "stderr",
     "output_type": "stream",
     "text": [
      "Warning: Overfitting detector is active, thus evaluation metric is calculated on every iteration. 'metric_period' is ignored for evaluation metric.\n"
     ]
    },
    {
     "name": "stdout",
     "output_type": "stream",
     "text": [
      "0:\ttest: 0.7223297\tbest: 0.7223297 (0)\ttotal: 3s\tremaining: 4h 9m 58s\n",
      "50:\ttest: 0.7955648\tbest: 0.7955648 (50)\ttotal: 2m 43s\tremaining: 4h 23m 54s\n",
      "100:\ttest: 0.7993696\tbest: 0.7993974 (98)\ttotal: 6m 13s\tremaining: 5h 2m 9s\n",
      "150:\ttest: 0.8001231\tbest: 0.8001231 (150)\ttotal: 9m 46s\tremaining: 5h 14m 5s\n",
      "200:\ttest: 0.8009079\tbest: 0.8009152 (199)\ttotal: 13m 16s\tremaining: 5h 16m 51s\n",
      "250:\ttest: 0.8015050\tbest: 0.8015050 (250)\ttotal: 16m 40s\tremaining: 5h 15m 29s\n",
      "300:\ttest: 0.8017928\tbest: 0.8017928 (300)\ttotal: 19m 59s\tremaining: 5h 12m 7s\n",
      "350:\ttest: 0.8021389\tbest: 0.8021389 (350)\ttotal: 23m 15s\tremaining: 5h 8m 5s\n",
      "400:\ttest: 0.8023396\tbest: 0.8023396 (400)\ttotal: 26m 13s\tremaining: 5h 46s\n",
      "450:\ttest: 0.8025096\tbest: 0.8025096 (449)\ttotal: 29m 10s\tremaining: 4h 54m 15s\n",
      "500:\ttest: 0.8025947\tbest: 0.8026029 (496)\ttotal: 31m 48s\tremaining: 4h 45m 39s\n",
      "550:\ttest: 0.8027442\tbest: 0.8027442 (550)\ttotal: 34m 29s\tremaining: 4h 38m 32s\n",
      "600:\ttest: 0.8027626\tbest: 0.8027725 (595)\ttotal: 36m 58s\tremaining: 4h 30m 39s\n",
      "650:\ttest: 0.8028656\tbest: 0.8028656 (650)\ttotal: 39m 32s\tremaining: 4h 24m 11s\n",
      "700:\ttest: 0.8029162\tbest: 0.8029171 (699)\ttotal: 41m 49s\tremaining: 4h 16m 27s\n",
      "750:\ttest: 0.8030021\tbest: 0.8030064 (747)\ttotal: 44m 15s\tremaining: 4h 10m 25s\n",
      "800:\ttest: 0.8030978\tbest: 0.8031076 (792)\ttotal: 46m 43s\tremaining: 4h 4m 54s\n",
      "850:\ttest: 0.8031238\tbest: 0.8031343 (825)\ttotal: 49m\tremaining: 3h 58m 57s\n",
      "900:\ttest: 0.8031683\tbest: 0.8031683 (900)\ttotal: 51m 18s\tremaining: 3h 53m 23s\n",
      "950:\ttest: 0.8032026\tbest: 0.8032030 (949)\ttotal: 53m 32s\tremaining: 3h 47m 56s\n",
      "1000:\ttest: 0.8032635\tbest: 0.8032635 (1000)\ttotal: 55m 47s\tremaining: 3h 42m 53s\n",
      "1050:\ttest: 0.8032981\tbest: 0.8032993 (1048)\ttotal: 58m\tremaining: 3h 37m 59s\n",
      "Stopped by overfitting detector  (50 iterations wait)\n",
      "\n",
      "bestTest = 0.8032993495\n",
      "bestIteration = 1048\n",
      "\n",
      "Shrink model to first 1049 iterations.\n",
      "AUC Score (Valid): 0.803299\n"
     ]
    }
   ],
   "source": [
    "#线下验证\n",
    "cate_fea = []\n",
    "clf = CatBoostClassifier(iterations=5000, learning_rate=0.05, \n",
    "                         loss_function='Logloss', cat_features=cate_fea, \n",
    "                         verbose=True, eval_metric='AUC', counter_calc_method='Full',\n",
    "                         depth=15, max_leaves=63, \n",
    "                         grow_policy='Lossguide',\n",
    "                         min_data_in_leaf=20, \n",
    "                         reg_lambda=1.0,\n",
    "#                          one_hot_max_size=4,\n",
    "#                          task_type='GPU',\n",
    "                         metric_period=50)\n",
    "clf.fit(\n",
    "    X_train[use_cols], y_train.astype('int32'), \n",
    "    eval_set=[(X_valid[use_cols], y_valid.astype('int32'))],\n",
    "    early_stopping_rounds=50,\n",
    "    verbose=True,\n",
    "    use_best_model=True,\n",
    ")\n",
    "\n",
    "y_predprob = clf.predict_proba(X_valid[use_cols])[:, 1] \n",
    "\n",
    "y_pre = clf.predict_proba(test_fea[use_cols])[:, 1]  \n",
    "auc_score =roc_auc_score(y_valid, y_predprob)\n",
    "print(\"AUC Score (Valid): %f\" % auc_score) "
   ]
  },
  {
   "cell_type": "code",
   "execution_count": 9,
   "metadata": {},
   "outputs": [],
   "source": [
    "result = pd.DataFrame({\n",
    "        'id': np.load(\"data/test_id.npy\"), \n",
    "        'probability': y_pre, \n",
    "    })\n",
    "\n",
    "result.to_csv(\"submission.csv\", index=False)  "
   ]
  },
  {
   "cell_type": "code",
   "execution_count": 10,
   "metadata": {},
   "outputs": [
    {
     "data": {
      "text/html": [
       "<div>\n",
       "<style scoped>\n",
       "    .dataframe tbody tr th:only-of-type {\n",
       "        vertical-align: middle;\n",
       "    }\n",
       "\n",
       "    .dataframe tbody tr th {\n",
       "        vertical-align: top;\n",
       "    }\n",
       "\n",
       "    .dataframe thead th {\n",
       "        text-align: right;\n",
       "    }\n",
       "</style>\n",
       "<table border=\"1\" class=\"dataframe\">\n",
       "  <thead>\n",
       "    <tr style=\"text-align: right;\">\n",
       "      <th></th>\n",
       "      <th>id</th>\n",
       "      <th>probability</th>\n",
       "    </tr>\n",
       "  </thead>\n",
       "  <tbody>\n",
       "    <tr>\n",
       "      <th>0</th>\n",
       "      <td>1</td>\n",
       "      <td>0.008360</td>\n",
       "    </tr>\n",
       "    <tr>\n",
       "      <th>1</th>\n",
       "      <td>2</td>\n",
       "      <td>0.097068</td>\n",
       "    </tr>\n",
       "    <tr>\n",
       "      <th>2</th>\n",
       "      <td>3</td>\n",
       "      <td>0.141274</td>\n",
       "    </tr>\n",
       "    <tr>\n",
       "      <th>3</th>\n",
       "      <td>4</td>\n",
       "      <td>0.011108</td>\n",
       "    </tr>\n",
       "    <tr>\n",
       "      <th>4</th>\n",
       "      <td>5</td>\n",
       "      <td>0.046296</td>\n",
       "    </tr>\n",
       "  </tbody>\n",
       "</table>\n",
       "</div>"
      ],
      "text/plain": [
       "   id  probability\n",
       "0   1     0.008360\n",
       "1   2     0.097068\n",
       "2   3     0.141274\n",
       "3   4     0.011108\n",
       "4   5     0.046296"
      ]
     },
     "execution_count": 10,
     "metadata": {},
     "output_type": "execute_result"
    }
   ],
   "source": [
    "result.head()"
   ]
  },
  {
   "cell_type": "code",
   "execution_count": null,
   "metadata": {},
   "outputs": [],
   "source": []
  }
 ],
 "metadata": {
  "kernelspec": {
   "display_name": "conda_python3",
   "language": "python",
   "name": "conda_python3"
  },
  "language_info": {
   "codemirror_mode": {
    "name": "ipython",
    "version": 3
   },
   "file_extension": ".py",
   "mimetype": "text/x-python",
   "name": "python",
   "nbconvert_exporter": "python",
   "pygments_lexer": "ipython3",
   "version": "3.6.5"
  }
 },
 "nbformat": 4,
 "nbformat_minor": 4
}
