{
 "cells": [
  {
   "cell_type": "code",
   "execution_count": 3,
   "metadata": {},
   "outputs": [],
   "source": [
    "import pandas as pd \n",
    "import numpy as np \n",
    "from tqdm import tqdm \n",
    "import datetime, time, gc \n",
    "# from utils import distance, haversine, standard, pad_seq \n",
    "from scipy.stats import skew, kurtosis\n",
    "from zipfile import ZipFile\n",
    "from collections import Counter \n",
    "from sklearn.metrics import roc_auc_score as auc\n",
    "import lightgbm as lgb\n",
    "from sklearn.model_selection import KFold\n",
    "from sklearn.model_selection import GroupKFold\n",
    "from sklearn.preprocessing import LabelEncoder\n",
    "from sklearn.metrics import roc_auc_score as auc\n",
    "# import tables\n",
    "\n",
    "pd.set_option('display.max_rows', 500)\n",
    "pd.set_option('display.max_columns', 500)"
   ]
  },
  {
   "cell_type": "code",
   "execution_count": 13,
   "metadata": {},
   "outputs": [],
   "source": [
    "def reduce_mem_usage(df):\n",
    "    start_mem = df.memory_usage().sum() / 1024 ** 2\n",
    "    for col in tqdm(df.columns):\n",
    "        col_type = df[col].dtypes\n",
    "        if col_type != object:\n",
    "            c_min = df[col].min()\n",
    "            c_max = df[col].max()\n",
    "            if str(col_type)[:3] == 'int':\n",
    "                if c_min > np.iinfo(np.int8).min and c_max < np.iinfo(np.int8).max:\n",
    "                    df[col] = df[col].astype(np.int8)\n",
    "                elif c_min > np.iinfo(np.int16).min and c_max < np.iinfo(np.int16).max:\n",
    "                    df[col] = df[col].astype(np.int16)\n",
    "                elif c_min > np.iinfo(np.int32).min and c_max < np.iinfo(np.int32).max:\n",
    "                    df[col] = df[col].astype(np.int32)\n",
    "                elif c_min > np.iinfo(np.int64).min and c_max < np.iinfo(np.int64).max:\n",
    "                    df[col] = df[col].astype(np.int64)\n",
    "            else:\n",
    "                if c_min > np.finfo(np.float16).min and c_max < np.finfo(np.float16).max:\n",
    "                    df[col] = df[col].astype(np.float16)\n",
    "                elif c_min > np.finfo(np.float32).min and c_max < np.finfo(np.float32).max:\n",
    "                    df[col] = df[col].astype(np.float32)\n",
    "                else:\n",
    "                    df[col] = df[col].astype(np.float64)\n",
    "    end_mem = df.memory_usage().sum() / 1024 ** 2\n",
    "    print('Mem. usage decreased to {:5.2f} Mb ({:.1f}% reduction)'.format(end_mem,\n",
    "                                                                          100 * (start_mem - end_mem) / start_mem))\n",
    "    return df"
   ]
  },
  {
   "cell_type": "code",
   "execution_count": 4,
   "metadata": {},
   "outputs": [],
   "source": [
    "# !pip install lightgbm"
   ]
  },
  {
   "cell_type": "code",
   "execution_count": 7,
   "metadata": {},
   "outputs": [
    {
     "name": "stdout",
     "output_type": "stream",
     "text": [
      "(8000000, 148) (8000000, 14)\n",
      "(8000000, 162)\n"
     ]
    }
   ],
   "source": [
    "data = pd.read_pickle('data/train_test_fea.pkl') \n",
    "data_tarenc = pd.read_pickle(\"data/train_test_targetenc.pkl\")\n",
    "print(data.shape, data_tarenc.shape)\n",
    "\n",
    "data = pd.concat([data, data_tarenc], axis=1)\n",
    "del data_tarenc\n",
    "gc.collect()\n",
    "print(data.shape)"
   ]
  },
  {
   "cell_type": "code",
   "execution_count": 12,
   "metadata": {},
   "outputs": [
    {
     "name": "stderr",
     "output_type": "stream",
     "text": [
      "100%|██████████| 24/24 [00:16<00:00,  1.43it/s]\n"
     ]
    }
   ],
   "source": [
    "cate_cols = ['uid', 'task_id', 'adv_id', 'creat_type_cd', 'adv_prim_id',\n",
    "       'dev_id', 'inter_type_cd', 'slot_id', 'spread_app_id', 'tags',\n",
    "       'app_first_class', 'app_second_class', 'city', 'age', \n",
    "       'device_name', 'career', 'gender', 'net_type',\n",
    "       'residence', 'his_on_shelf_time', \"communication_onlinerate\", \n",
    "       'up_membership_grade', 'consume_purchase', 'indu_name',\n",
    "]\n",
    "\n",
    "for feat in tqdm(cate_cols):\n",
    "    lbe = LabelEncoder()\n",
    "    data[feat] = lbe.fit_transform(data[feat])\n",
    "\n",
    "use_cols = list( set(data.columns) - set(['label', 'cnt', 'random_sector',\n",
    "        'uid_task_id_ctr', 'uid_adv_id_ctr', 'pt_d', 'id',\n",
    "]))"
   ]
  },
  {
   "cell_type": "code",
   "execution_count": 15,
   "metadata": {},
   "outputs": [
    {
     "name": "stderr",
     "output_type": "stream",
     "text": [
      "100%|██████████| 162/162 [00:16<00:00,  9.79it/s]"
     ]
    },
    {
     "name": "stdout",
     "output_type": "stream",
     "text": [
      "Mem. usage decreased to 2250.24 Mb (35.3% reduction)\n"
     ]
    },
    {
     "name": "stderr",
     "output_type": "stream",
     "text": [
      "\n"
     ]
    }
   ],
   "source": [
    "data = reduce_mem_usage(data)"
   ]
  },
  {
   "cell_type": "code",
   "execution_count": 20,
   "metadata": {},
   "outputs": [],
   "source": []
  },
  {
   "cell_type": "code",
   "execution_count": 24,
   "metadata": {},
   "outputs": [
    {
     "name": "stdout",
     "output_type": "stream",
     "text": [
      "11:12:39 : pt_d = 1\n",
      "\n"
     ]
    },
    {
     "name": "stderr",
     "output_type": "stream",
     "text": [
      "/opt/conda/envs/python3/lib/python3.6/site-packages/ipykernel/__main__.py:39: UserWarning: Boolean Series key will be reindexed to match DataFrame index.\n",
      "/opt/conda/envs/python3/lib/python3.6/site-packages/ipykernel/__main__.py:40: UserWarning: Boolean Series key will be reindexed to match DataFrame index.\n"
     ]
    },
    {
     "name": "stdout",
     "output_type": "stream",
     "text": [
      "(6000000, 162) (1000000, 162) (1000000, 162)\n"
     ]
    },
    {
     "name": "stderr",
     "output_type": "stream",
     "text": [
      "/opt/conda/envs/python3/lib/python3.6/site-packages/lightgbm/basic.py:1555: UserWarning: categorical_feature in Dataset is overridden.\n",
      "New categorical_feature is ['adv_id', 'adv_prim_id', 'age', 'app_first_class', 'app_second_class', 'career', 'city', 'communication_onlinerate', 'consume_purchase', 'creat_type_cd', 'dev_id', 'device_name', 'gender', 'his_on_shelf_time', 'indu_name', 'inter_type_cd', 'net_type', 'residence', 'slot_id', 'spread_app_id', 'tags', 'task_id', 'uid', 'up_membership_grade']\n",
      "  'New categorical_feature is {}'.format(sorted(list(categorical_feature))))\n"
     ]
    },
    {
     "name": "stdout",
     "output_type": "stream",
     "text": [
      "[LightGBM] [Info] Number of positive: 203653, number of negative: 5796347\n",
      "[LightGBM] [Warning] Auto-choosing row-wise multi-threading, the overhead of testing was 1.144853 seconds.\n",
      "You can set `force_row_wise=true` to remove the overhead.\n",
      "And if memory is not enough, you can set `force_col_wise=true`.\n",
      "[LightGBM] [Info] Total Bins 31700\n",
      "[LightGBM] [Info] Number of data points in the train set: 6000000, number of used features: 160\n"
     ]
    },
    {
     "name": "stderr",
     "output_type": "stream",
     "text": [
      "/opt/conda/envs/python3/lib/python3.6/site-packages/lightgbm/basic.py:1286: UserWarning: Overriding the parameters from Reference Dataset.\n",
      "  warnings.warn('Overriding the parameters from Reference Dataset.')\n",
      "/opt/conda/envs/python3/lib/python3.6/site-packages/lightgbm/basic.py:1098: UserWarning: categorical_column in param dict is overridden.\n",
      "  warnings.warn('{} in param dict is overridden.'.format(cat_alias))\n"
     ]
    },
    {
     "name": "stdout",
     "output_type": "stream",
     "text": [
      "[LightGBM] [Info] [binary:BoostFromScore]: pavg=0.033942 -> initscore=-3.348566\n",
      "[LightGBM] [Info] Start training from score -3.348566\n",
      "Training until validation scores don't improve for 30 rounds\n",
      "[20]\ttraining's binary_logloss: 0.121436\ttraining's auc: 0.828707\tvalid_1's binary_logloss: 0.133738\tvalid_1's auc: 0.812736\n",
      "[40]\ttraining's binary_logloss: 0.116223\ttraining's auc: 0.844083\tvalid_1's binary_logloss: 0.130744\tvalid_1's auc: 0.814979\n",
      "[60]\ttraining's binary_logloss: 0.113205\ttraining's auc: 0.857171\tvalid_1's binary_logloss: 0.129957\tvalid_1's auc: 0.81672\n",
      "[80]\ttraining's binary_logloss: 0.110739\ttraining's auc: 0.869089\tvalid_1's binary_logloss: 0.129667\tvalid_1's auc: 0.818191\n",
      "[100]\ttraining's binary_logloss: 0.108572\ttraining's auc: 0.87907\tvalid_1's binary_logloss: 0.129619\tvalid_1's auc: 0.818472\n",
      "[120]\ttraining's binary_logloss: 0.106684\ttraining's auc: 0.88737\tvalid_1's binary_logloss: 0.129605\tvalid_1's auc: 0.818622\n",
      "[140]\ttraining's binary_logloss: 0.10501\ttraining's auc: 0.894507\tvalid_1's binary_logloss: 0.129635\tvalid_1's auc: 0.818611\n",
      "Early stopping, best iteration is:\n",
      "[112]\ttraining's binary_logloss: 0.107432\ttraining's auc: 0.884113\tvalid_1's binary_logloss: 0.129582\tvalid_1's auc: 0.818707\n",
      "11:27:44 : val_auc = 0.8187070685562055\n",
      "\n",
      "11:27:52 : pt_d = 2\n",
      "\n"
     ]
    },
    {
     "name": "stderr",
     "output_type": "stream",
     "text": [
      "/opt/conda/envs/python3/lib/python3.6/site-packages/ipykernel/__main__.py:39: UserWarning: Boolean Series key will be reindexed to match DataFrame index.\n",
      "/opt/conda/envs/python3/lib/python3.6/site-packages/ipykernel/__main__.py:40: UserWarning: Boolean Series key will be reindexed to match DataFrame index.\n"
     ]
    },
    {
     "name": "stdout",
     "output_type": "stream",
     "text": [
      "(6000000, 162) (1000000, 162) (1000000, 162)\n"
     ]
    },
    {
     "name": "stderr",
     "output_type": "stream",
     "text": [
      "/opt/conda/envs/python3/lib/python3.6/site-packages/lightgbm/basic.py:1555: UserWarning: categorical_feature in Dataset is overridden.\n",
      "New categorical_feature is ['adv_id', 'adv_prim_id', 'age', 'app_first_class', 'app_second_class', 'career', 'city', 'communication_onlinerate', 'consume_purchase', 'creat_type_cd', 'dev_id', 'device_name', 'gender', 'his_on_shelf_time', 'indu_name', 'inter_type_cd', 'net_type', 'residence', 'slot_id', 'spread_app_id', 'tags', 'task_id', 'uid', 'up_membership_grade']\n",
      "  'New categorical_feature is {}'.format(sorted(list(categorical_feature))))\n"
     ]
    },
    {
     "name": "stdout",
     "output_type": "stream",
     "text": [
      "[LightGBM] [Info] Number of positive: 206202, number of negative: 5793798\n",
      "[LightGBM] [Warning] Auto-choosing col-wise multi-threading, the overhead of testing was 4.199560 seconds.\n",
      "You can set `force_col_wise=true` to remove the overhead.\n",
      "[LightGBM] [Info] Total Bins 31924\n",
      "[LightGBM] [Info] Number of data points in the train set: 6000000, number of used features: 160\n"
     ]
    },
    {
     "name": "stderr",
     "output_type": "stream",
     "text": [
      "/opt/conda/envs/python3/lib/python3.6/site-packages/lightgbm/basic.py:1286: UserWarning: Overriding the parameters from Reference Dataset.\n",
      "  warnings.warn('Overriding the parameters from Reference Dataset.')\n",
      "/opt/conda/envs/python3/lib/python3.6/site-packages/lightgbm/basic.py:1098: UserWarning: categorical_column in param dict is overridden.\n",
      "  warnings.warn('{} in param dict is overridden.'.format(cat_alias))\n"
     ]
    },
    {
     "name": "stdout",
     "output_type": "stream",
     "text": [
      "[LightGBM] [Info] [binary:BoostFromScore]: pavg=0.034367 -> initscore=-3.335687\n",
      "[LightGBM] [Info] Start training from score -3.335687\n",
      "Training until validation scores don't improve for 30 rounds\n",
      "[20]\ttraining's binary_logloss: 0.122829\ttraining's auc: 0.828354\tvalid_1's binary_logloss: 0.125391\tvalid_1's auc: 0.817566\n",
      "[40]\ttraining's binary_logloss: 0.117558\ttraining's auc: 0.843483\tvalid_1's binary_logloss: 0.122247\tvalid_1's auc: 0.819981\n",
      "[60]\ttraining's binary_logloss: 0.114471\ttraining's auc: 0.856918\tvalid_1's binary_logloss: 0.121421\tvalid_1's auc: 0.821726\n",
      "[80]\ttraining's binary_logloss: 0.111979\ttraining's auc: 0.869032\tvalid_1's binary_logloss: 0.121156\tvalid_1's auc: 0.822849\n",
      "[100]\ttraining's binary_logloss: 0.109775\ttraining's auc: 0.878943\tvalid_1's binary_logloss: 0.121071\tvalid_1's auc: 0.823234\n",
      "[120]\ttraining's binary_logloss: 0.10785\ttraining's auc: 0.887264\tvalid_1's binary_logloss: 0.121078\tvalid_1's auc: 0.823305\n",
      "Early stopping, best iteration is:\n",
      "[103]\ttraining's binary_logloss: 0.1095\ttraining's auc: 0.880074\tvalid_1's binary_logloss: 0.121054\tvalid_1's auc: 0.823407\n",
      "11:46:19 : val_auc = 0.823406839812933\n",
      "\n",
      "11:46:26 : pt_d = 3\n",
      "\n"
     ]
    },
    {
     "name": "stderr",
     "output_type": "stream",
     "text": [
      "/opt/conda/envs/python3/lib/python3.6/site-packages/ipykernel/__main__.py:39: UserWarning: Boolean Series key will be reindexed to match DataFrame index.\n",
      "/opt/conda/envs/python3/lib/python3.6/site-packages/ipykernel/__main__.py:40: UserWarning: Boolean Series key will be reindexed to match DataFrame index.\n"
     ]
    },
    {
     "name": "stdout",
     "output_type": "stream",
     "text": [
      "(6000000, 162) (1000000, 162) (1000000, 162)\n"
     ]
    },
    {
     "name": "stderr",
     "output_type": "stream",
     "text": [
      "/opt/conda/envs/python3/lib/python3.6/site-packages/lightgbm/basic.py:1555: UserWarning: categorical_feature in Dataset is overridden.\n",
      "New categorical_feature is ['adv_id', 'adv_prim_id', 'age', 'app_first_class', 'app_second_class', 'career', 'city', 'communication_onlinerate', 'consume_purchase', 'creat_type_cd', 'dev_id', 'device_name', 'gender', 'his_on_shelf_time', 'indu_name', 'inter_type_cd', 'net_type', 'residence', 'slot_id', 'spread_app_id', 'tags', 'task_id', 'uid', 'up_membership_grade']\n",
      "  'New categorical_feature is {}'.format(sorted(list(categorical_feature))))\n"
     ]
    },
    {
     "name": "stdout",
     "output_type": "stream",
     "text": [
      "[LightGBM] [Info] Number of positive: 208265, number of negative: 5791735\n",
      "[LightGBM] [Warning] Auto-choosing col-wise multi-threading, the overhead of testing was 4.168907 seconds.\n",
      "You can set `force_col_wise=true` to remove the overhead.\n",
      "[LightGBM] [Info] Total Bins 31974\n",
      "[LightGBM] [Info] Number of data points in the train set: 6000000, number of used features: 160\n"
     ]
    },
    {
     "name": "stderr",
     "output_type": "stream",
     "text": [
      "/opt/conda/envs/python3/lib/python3.6/site-packages/lightgbm/basic.py:1286: UserWarning: Overriding the parameters from Reference Dataset.\n",
      "  warnings.warn('Overriding the parameters from Reference Dataset.')\n",
      "/opt/conda/envs/python3/lib/python3.6/site-packages/lightgbm/basic.py:1098: UserWarning: categorical_column in param dict is overridden.\n",
      "  warnings.warn('{} in param dict is overridden.'.format(cat_alias))\n"
     ]
    },
    {
     "name": "stdout",
     "output_type": "stream",
     "text": [
      "[LightGBM] [Info] [binary:BoostFromScore]: pavg=0.034711 -> initscore=-3.325376\n",
      "[LightGBM] [Info] Start training from score -3.325376\n",
      "Training until validation scores don't improve for 30 rounds\n",
      "[20]\ttraining's binary_logloss: 0.123427\ttraining's auc: 0.829818\tvalid_1's binary_logloss: 0.121856\tvalid_1's auc: 0.807521\n",
      "[40]\ttraining's binary_logloss: 0.118079\ttraining's auc: 0.844836\tvalid_1's binary_logloss: 0.118921\tvalid_1's auc: 0.810149\n",
      "[60]\ttraining's binary_logloss: 0.114967\ttraining's auc: 0.858177\tvalid_1's binary_logloss: 0.118162\tvalid_1's auc: 0.811885\n",
      "[80]\ttraining's binary_logloss: 0.112469\ttraining's auc: 0.869939\tvalid_1's binary_logloss: 0.117918\tvalid_1's auc: 0.813038\n",
      "[100]\ttraining's binary_logloss: 0.110267\ttraining's auc: 0.879688\tvalid_1's binary_logloss: 0.117891\tvalid_1's auc: 0.813151\n",
      "Early stopping, best iteration is:\n",
      "[89]\ttraining's binary_logloss: 0.111447\ttraining's auc: 0.874456\tvalid_1's binary_logloss: 0.117874\tvalid_1's auc: 0.813298\n",
      "12:03:04 : val_auc = 0.813298449334546\n",
      "\n",
      "12:03:10 : pt_d = 4\n",
      "\n"
     ]
    },
    {
     "name": "stderr",
     "output_type": "stream",
     "text": [
      "/opt/conda/envs/python3/lib/python3.6/site-packages/ipykernel/__main__.py:39: UserWarning: Boolean Series key will be reindexed to match DataFrame index.\n",
      "/opt/conda/envs/python3/lib/python3.6/site-packages/ipykernel/__main__.py:40: UserWarning: Boolean Series key will be reindexed to match DataFrame index.\n"
     ]
    },
    {
     "name": "stdout",
     "output_type": "stream",
     "text": [
      "(6000000, 162) (1000000, 162) (1000000, 162)\n"
     ]
    },
    {
     "name": "stderr",
     "output_type": "stream",
     "text": [
      "/opt/conda/envs/python3/lib/python3.6/site-packages/lightgbm/basic.py:1555: UserWarning: categorical_feature in Dataset is overridden.\n",
      "New categorical_feature is ['adv_id', 'adv_prim_id', 'age', 'app_first_class', 'app_second_class', 'career', 'city', 'communication_onlinerate', 'consume_purchase', 'creat_type_cd', 'dev_id', 'device_name', 'gender', 'his_on_shelf_time', 'indu_name', 'inter_type_cd', 'net_type', 'residence', 'slot_id', 'spread_app_id', 'tags', 'task_id', 'uid', 'up_membership_grade']\n",
      "  'New categorical_feature is {}'.format(sorted(list(categorical_feature))))\n"
     ]
    },
    {
     "name": "stdout",
     "output_type": "stream",
     "text": [
      "[LightGBM] [Info] Number of positive: 207746, number of negative: 5792254\n",
      "[LightGBM] [Warning] Auto-choosing row-wise multi-threading, the overhead of testing was 1.085590 seconds.\n",
      "You can set `force_row_wise=true` to remove the overhead.\n",
      "And if memory is not enough, you can set `force_col_wise=true`.\n",
      "[LightGBM] [Info] Total Bins 32032\n",
      "[LightGBM] [Info] Number of data points in the train set: 6000000, number of used features: 160\n"
     ]
    },
    {
     "name": "stderr",
     "output_type": "stream",
     "text": [
      "/opt/conda/envs/python3/lib/python3.6/site-packages/lightgbm/basic.py:1286: UserWarning: Overriding the parameters from Reference Dataset.\n",
      "  warnings.warn('Overriding the parameters from Reference Dataset.')\n",
      "/opt/conda/envs/python3/lib/python3.6/site-packages/lightgbm/basic.py:1098: UserWarning: categorical_column in param dict is overridden.\n",
      "  warnings.warn('{} in param dict is overridden.'.format(cat_alias))\n"
     ]
    },
    {
     "name": "stdout",
     "output_type": "stream",
     "text": [
      "[LightGBM] [Info] [binary:BoostFromScore]: pavg=0.034624 -> initscore=-3.327961\n",
      "[LightGBM] [Info] Start training from score -3.327961\n",
      "Training until validation scores don't improve for 30 rounds\n",
      "[20]\ttraining's binary_logloss: 0.123325\ttraining's auc: 0.829092\tvalid_1's binary_logloss: 0.12258\tvalid_1's auc: 0.80983\n",
      "[40]\ttraining's binary_logloss: 0.117978\ttraining's auc: 0.844497\tvalid_1's binary_logloss: 0.11961\tvalid_1's auc: 0.812561\n",
      "[60]\ttraining's binary_logloss: 0.114893\ttraining's auc: 0.857927\tvalid_1's binary_logloss: 0.118904\tvalid_1's auc: 0.813901\n",
      "[80]\ttraining's binary_logloss: 0.112372\ttraining's auc: 0.869744\tvalid_1's binary_logloss: 0.118663\tvalid_1's auc: 0.815006\n",
      "[100]\ttraining's binary_logloss: 0.110125\ttraining's auc: 0.880173\tvalid_1's binary_logloss: 0.118619\tvalid_1's auc: 0.815285\n",
      "[120]\ttraining's binary_logloss: 0.108187\ttraining's auc: 0.888398\tvalid_1's binary_logloss: 0.11866\tvalid_1's auc: 0.815137\n",
      "Early stopping, best iteration is:\n",
      "[103]\ttraining's binary_logloss: 0.109845\ttraining's auc: 0.881323\tvalid_1's binary_logloss: 0.118604\tvalid_1's auc: 0.815361\n",
      "12:17:20 : val_auc = 0.815360662529903\n",
      "\n",
      "12:17:27 : pt_d = 5\n",
      "\n"
     ]
    },
    {
     "name": "stderr",
     "output_type": "stream",
     "text": [
      "/opt/conda/envs/python3/lib/python3.6/site-packages/ipykernel/__main__.py:39: UserWarning: Boolean Series key will be reindexed to match DataFrame index.\n",
      "/opt/conda/envs/python3/lib/python3.6/site-packages/ipykernel/__main__.py:40: UserWarning: Boolean Series key will be reindexed to match DataFrame index.\n"
     ]
    },
    {
     "name": "stdout",
     "output_type": "stream",
     "text": [
      "(6000000, 162) (1000000, 162) (1000000, 162)\n"
     ]
    },
    {
     "name": "stderr",
     "output_type": "stream",
     "text": [
      "/opt/conda/envs/python3/lib/python3.6/site-packages/lightgbm/basic.py:1555: UserWarning: categorical_feature in Dataset is overridden.\n",
      "New categorical_feature is ['adv_id', 'adv_prim_id', 'age', 'app_first_class', 'app_second_class', 'career', 'city', 'communication_onlinerate', 'consume_purchase', 'creat_type_cd', 'dev_id', 'device_name', 'gender', 'his_on_shelf_time', 'indu_name', 'inter_type_cd', 'net_type', 'residence', 'slot_id', 'spread_app_id', 'tags', 'task_id', 'uid', 'up_membership_grade']\n",
      "  'New categorical_feature is {}'.format(sorted(list(categorical_feature))))\n"
     ]
    },
    {
     "name": "stdout",
     "output_type": "stream",
     "text": [
      "[LightGBM] [Info] Number of positive: 209848, number of negative: 5790152\n",
      "[LightGBM] [Warning] Auto-choosing col-wise multi-threading, the overhead of testing was 4.170279 seconds.\n",
      "You can set `force_col_wise=true` to remove the overhead.\n",
      "[LightGBM] [Info] Total Bins 31959\n",
      "[LightGBM] [Info] Number of data points in the train set: 6000000, number of used features: 160\n"
     ]
    },
    {
     "name": "stderr",
     "output_type": "stream",
     "text": [
      "/opt/conda/envs/python3/lib/python3.6/site-packages/lightgbm/basic.py:1286: UserWarning: Overriding the parameters from Reference Dataset.\n",
      "  warnings.warn('Overriding the parameters from Reference Dataset.')\n",
      "/opt/conda/envs/python3/lib/python3.6/site-packages/lightgbm/basic.py:1098: UserWarning: categorical_column in param dict is overridden.\n",
      "  warnings.warn('{} in param dict is overridden.'.format(cat_alias))\n"
     ]
    },
    {
     "name": "stdout",
     "output_type": "stream",
     "text": [
      "[LightGBM] [Info] [binary:BoostFromScore]: pavg=0.034975 -> initscore=-3.317530\n",
      "[LightGBM] [Info] Start training from score -3.317530\n",
      "Training until validation scores don't improve for 30 rounds\n",
      "[20]\ttraining's binary_logloss: 0.124003\ttraining's auc: 0.830534\tvalid_1's binary_logloss: 0.118331\tvalid_1's auc: 0.802156\n",
      "[40]\ttraining's binary_logloss: 0.118636\ttraining's auc: 0.845311\tvalid_1's binary_logloss: 0.115586\tvalid_1's auc: 0.804526\n",
      "[60]\ttraining's binary_logloss: 0.115529\ttraining's auc: 0.858633\tvalid_1's binary_logloss: 0.114931\tvalid_1's auc: 0.80585\n",
      "[80]\ttraining's binary_logloss: 0.11302\ttraining's auc: 0.870553\tvalid_1's binary_logloss: 0.114783\tvalid_1's auc: 0.806397\n",
      "[100]\ttraining's binary_logloss: 0.110787\ttraining's auc: 0.880495\tvalid_1's binary_logloss: 0.114776\tvalid_1's auc: 0.806533\n",
      "[120]\ttraining's binary_logloss: 0.108878\ttraining's auc: 0.888521\tvalid_1's binary_logloss: 0.114816\tvalid_1's auc: 0.806442\n",
      "Early stopping, best iteration is:\n",
      "[95]\ttraining's binary_logloss: 0.111329\ttraining's auc: 0.878095\tvalid_1's binary_logloss: 0.114762\tvalid_1's auc: 0.806579\n",
      "12:34:58 : val_auc = 0.8065788532843824\n",
      "\n",
      "12:35:04 : pt_d = 6\n",
      "\n"
     ]
    },
    {
     "name": "stderr",
     "output_type": "stream",
     "text": [
      "/opt/conda/envs/python3/lib/python3.6/site-packages/ipykernel/__main__.py:39: UserWarning: Boolean Series key will be reindexed to match DataFrame index.\n",
      "/opt/conda/envs/python3/lib/python3.6/site-packages/ipykernel/__main__.py:40: UserWarning: Boolean Series key will be reindexed to match DataFrame index.\n"
     ]
    },
    {
     "name": "stdout",
     "output_type": "stream",
     "text": [
      "(6000000, 162) (1000000, 162) (1000000, 162)\n"
     ]
    },
    {
     "name": "stderr",
     "output_type": "stream",
     "text": [
      "/opt/conda/envs/python3/lib/python3.6/site-packages/lightgbm/basic.py:1555: UserWarning: categorical_feature in Dataset is overridden.\n",
      "New categorical_feature is ['adv_id', 'adv_prim_id', 'age', 'app_first_class', 'app_second_class', 'career', 'city', 'communication_onlinerate', 'consume_purchase', 'creat_type_cd', 'dev_id', 'device_name', 'gender', 'his_on_shelf_time', 'indu_name', 'inter_type_cd', 'net_type', 'residence', 'slot_id', 'spread_app_id', 'tags', 'task_id', 'uid', 'up_membership_grade']\n",
      "  'New categorical_feature is {}'.format(sorted(list(categorical_feature))))\n"
     ]
    },
    {
     "name": "stdout",
     "output_type": "stream",
     "text": [
      "[LightGBM] [Info] Number of positive: 206517, number of negative: 5793483\n",
      "[LightGBM] [Warning] Auto-choosing row-wise multi-threading, the overhead of testing was 0.990939 seconds.\n",
      "You can set `force_row_wise=true` to remove the overhead.\n",
      "And if memory is not enough, you can set `force_col_wise=true`.\n",
      "[LightGBM] [Info] Total Bins 32216\n",
      "[LightGBM] [Info] Number of data points in the train set: 6000000, number of used features: 160\n"
     ]
    },
    {
     "name": "stderr",
     "output_type": "stream",
     "text": [
      "/opt/conda/envs/python3/lib/python3.6/site-packages/lightgbm/basic.py:1286: UserWarning: Overriding the parameters from Reference Dataset.\n",
      "  warnings.warn('Overriding the parameters from Reference Dataset.')\n",
      "/opt/conda/envs/python3/lib/python3.6/site-packages/lightgbm/basic.py:1098: UserWarning: categorical_column in param dict is overridden.\n",
      "  warnings.warn('{} in param dict is overridden.'.format(cat_alias))\n"
     ]
    },
    {
     "name": "stdout",
     "output_type": "stream",
     "text": [
      "[LightGBM] [Info] [binary:BoostFromScore]: pavg=0.034419 -> initscore=-3.334106\n",
      "[LightGBM] [Info] Start training from score -3.334106\n",
      "Training until validation scores don't improve for 30 rounds\n",
      "[20]\ttraining's binary_logloss: 0.122288\ttraining's auc: 0.831652\tvalid_1's binary_logloss: 0.127937\tvalid_1's auc: 0.798217\n",
      "[40]\ttraining's binary_logloss: 0.116915\ttraining's auc: 0.846837\tvalid_1's binary_logloss: 0.12545\tvalid_1's auc: 0.800173\n",
      "[60]\ttraining's binary_logloss: 0.113791\ttraining's auc: 0.86025\tvalid_1's binary_logloss: 0.125013\tvalid_1's auc: 0.801123\n",
      "[80]\ttraining's binary_logloss: 0.111266\ttraining's auc: 0.871871\tvalid_1's binary_logloss: 0.124991\tvalid_1's auc: 0.801283\n",
      "Early stopping, best iteration is:\n",
      "[67]\ttraining's binary_logloss: 0.112816\ttraining's auc: 0.864706\tvalid_1's binary_logloss: 0.124982\tvalid_1's auc: 0.801258\n",
      "12:45:48 : val_auc = 0.8012576891274322\n",
      "\n",
      "12:45:52 : pt_d = 7\n",
      "\n"
     ]
    },
    {
     "name": "stderr",
     "output_type": "stream",
     "text": [
      "/opt/conda/envs/python3/lib/python3.6/site-packages/ipykernel/__main__.py:39: UserWarning: Boolean Series key will be reindexed to match DataFrame index.\n",
      "/opt/conda/envs/python3/lib/python3.6/site-packages/ipykernel/__main__.py:40: UserWarning: Boolean Series key will be reindexed to match DataFrame index.\n"
     ]
    },
    {
     "name": "stdout",
     "output_type": "stream",
     "text": [
      "(6000000, 162) (1000000, 162) (1000000, 162)\n"
     ]
    },
    {
     "name": "stderr",
     "output_type": "stream",
     "text": [
      "/opt/conda/envs/python3/lib/python3.6/site-packages/lightgbm/basic.py:1555: UserWarning: categorical_feature in Dataset is overridden.\n",
      "New categorical_feature is ['adv_id', 'adv_prim_id', 'age', 'app_first_class', 'app_second_class', 'career', 'city', 'communication_onlinerate', 'consume_purchase', 'creat_type_cd', 'dev_id', 'device_name', 'gender', 'his_on_shelf_time', 'indu_name', 'inter_type_cd', 'net_type', 'residence', 'slot_id', 'spread_app_id', 'tags', 'task_id', 'uid', 'up_membership_grade']\n",
      "  'New categorical_feature is {}'.format(sorted(list(categorical_feature))))\n"
     ]
    },
    {
     "name": "stdout",
     "output_type": "stream",
     "text": [
      "[LightGBM] [Info] Number of positive: 206115, number of negative: 5793885\n",
      "[LightGBM] [Warning] Auto-choosing row-wise multi-threading, the overhead of testing was 1.155675 seconds.\n",
      "You can set `force_row_wise=true` to remove the overhead.\n",
      "And if memory is not enough, you can set `force_col_wise=true`.\n",
      "[LightGBM] [Info] Total Bins 31984\n",
      "[LightGBM] [Info] Number of data points in the train set: 6000000, number of used features: 160\n"
     ]
    },
    {
     "name": "stderr",
     "output_type": "stream",
     "text": [
      "/opt/conda/envs/python3/lib/python3.6/site-packages/lightgbm/basic.py:1286: UserWarning: Overriding the parameters from Reference Dataset.\n",
      "  warnings.warn('Overriding the parameters from Reference Dataset.')\n",
      "/opt/conda/envs/python3/lib/python3.6/site-packages/lightgbm/basic.py:1098: UserWarning: categorical_column in param dict is overridden.\n",
      "  warnings.warn('{} in param dict is overridden.'.format(cat_alias))\n"
     ]
    },
    {
     "name": "stdout",
     "output_type": "stream",
     "text": [
      "[LightGBM] [Info] [binary:BoostFromScore]: pavg=0.034353 -> initscore=-3.336124\n",
      "[LightGBM] [Info] Start training from score -3.336124\n",
      "Training until validation scores don't improve for 30 rounds\n",
      "[20]\ttraining's binary_logloss: 0.122151\ttraining's auc: 0.831813\tvalid_1's binary_logloss: 0.128624\tvalid_1's auc: 0.797906\n",
      "[40]\ttraining's binary_logloss: 0.116758\ttraining's auc: 0.847164\tvalid_1's binary_logloss: 0.126271\tvalid_1's auc: 0.799847\n",
      "[60]\ttraining's binary_logloss: 0.113625\ttraining's auc: 0.860233\tvalid_1's binary_logloss: 0.125943\tvalid_1's auc: 0.800386\n",
      "[80]\ttraining's binary_logloss: 0.111073\ttraining's auc: 0.872031\tvalid_1's binary_logloss: 0.126045\tvalid_1's auc: 0.800183\n",
      "Early stopping, best iteration is:\n",
      "[60]\ttraining's binary_logloss: 0.113625\ttraining's auc: 0.860233\tvalid_1's binary_logloss: 0.125943\tvalid_1's auc: 0.800386\n",
      "12:55:53 : val_auc = 0.8003862523455544\n",
      "\n"
     ]
    }
   ],
   "source": [
    "# !pip install keras==2.2.4\n",
    "\n",
    "file_name = datetime.date.today().strftime('%m%d')+\"_{}.log\".format(\"deep_base\")\n",
    "def write_log(w):\n",
    "    t0 = datetime.datetime.now().strftime('%H:%M:%S')\n",
    "    info = \"{} : {}\\n\".format(t0, w)\n",
    "    print(info)\n",
    "    with open(file_name, 'a') as f:\n",
    "        f.write(info)\n",
    "        f.write(\"-\"*80+\"\\n\")\n",
    "\n",
    "\n",
    "test_pred = np.zeros((1000000, ))\n",
    "\n",
    "# params\n",
    "params = {\n",
    "        'learning_rate': 0.05,\n",
    "        'objective': 'binary',\n",
    "        'metric': ['binary_logloss', 'auc'], \n",
    "        'boosting_type': 'gbdt',\n",
    "        'num_leaves': 256,\n",
    "        'feature_fraction': 0.85,\n",
    "        'bagging_fraction': 0.85,\n",
    "        'bagging_freq': 3,\n",
    "        'seed': 8,\n",
    "        'bagging_seed': 1,\n",
    "        'feature_fraction_seed': 7,\n",
    "        'min_data_in_leaf': 20,\n",
    "        'nthread': 8,\n",
    "        'verbose': 1,\n",
    "    }\n",
    "\n",
    "imp = pd.DataFrame()  # 特征重要性\n",
    "imp['feat'] = use_cols\n",
    "    \n",
    "for i in range(1, 8):\n",
    "    write_log('pt_d = {}'.format(i))\n",
    "    \n",
    "    train = data.iloc[:-1000000][data[\"pt_d\"] != i].reset_index(drop=True)\n",
    "    valid = data.iloc[:-1000000][data[\"pt_d\"] == i].reset_index(drop=True)\n",
    "    test = data.iloc[-1000000:].reset_index(drop=True)\n",
    "    print(train.shape, valid.shape, test.shape)\n",
    "\n",
    "    # 数据加载\n",
    "    n_train = lgb.Dataset(train[use_cols], label=train['label'].values, \n",
    "                             # free_raw_data=False\n",
    "                             )\n",
    "    n_valid = lgb.Dataset(valid[use_cols], label=valid['label'].values, \n",
    "                              #free_raw_data=False\n",
    "                             )\n",
    "\n",
    "#     del train, valid\n",
    "    gc.collect()\n",
    "    \n",
    "    clf = lgb.train(\n",
    "            params=params,\n",
    "            train_set=n_train,\n",
    "            categorical_feature=cate_cols,\n",
    "            num_boost_round=5000,\n",
    "            valid_sets=[n_train, n_valid],\n",
    "            early_stopping_rounds=30,\n",
    "            verbose_eval=20,\n",
    "#             feval=mse_score_eval\n",
    "        )\n",
    "    \n",
    "    train_pred = clf.predict(valid[use_cols], num_iteration=clf.best_iteration)\n",
    "    \n",
    "    write_log(\"val_auc = {}\".format(auc(valid['label'].values, train_pred)))\n",
    "    \n",
    "    test_pred += clf.predict(test[use_cols], num_iteration=clf.best_iteration) / 7\n",
    "    \n",
    "    imp['gain' + str(i)] = clf.feature_importance(importance_type='gain')\n",
    "    imp['split' + str(i)] = clf.feature_importance(importance_type='split')\n"
   ]
  },
  {
   "cell_type": "code",
   "execution_count": 19,
   "metadata": {},
   "outputs": [],
   "source": [
    "train_pred = clf.predict(valid[use_cols], num_iteration=clf.best_iteration)\n",
    "\n",
    "# write_log(\"val_auc = {}\".format(auc(valid['label'].values, train_pred)))\n",
    "    "
   ]
  },
  {
   "cell_type": "code",
   "execution_count": 21,
   "metadata": {},
   "outputs": [
    {
     "data": {
      "text/plain": [
       "array([0.01792428, 0.08202912, 0.09722099, ..., 0.03920117, 0.01852832,\n",
       "       0.02759261])"
      ]
     },
     "execution_count": 21,
     "metadata": {},
     "output_type": "execute_result"
    }
   ],
   "source": [
    "clf.predict(test[use_cols], num_iteration=clf.best_iteration)"
   ]
  },
  {
   "cell_type": "code",
   "execution_count": 26,
   "metadata": {},
   "outputs": [],
   "source": [
    "result = pd.DataFrame({\n",
    "        'id': np.load(\"data/test_id.npy\"), \n",
    "        'probability': test_pred.reshape(-1), \n",
    "    })\n",
    "\n",
    "result.to_csv(\"submission.csv\", index=False) "
   ]
  },
  {
   "cell_type": "code",
   "execution_count": null,
   "metadata": {},
   "outputs": [],
   "source": []
  }
 ],
 "metadata": {
  "kernelspec": {
   "display_name": "conda_python3",
   "language": "python",
   "name": "conda_python3"
  },
  "language_info": {
   "codemirror_mode": {
    "name": "ipython",
    "version": 3
   },
   "file_extension": ".py",
   "mimetype": "text/x-python",
   "name": "python",
   "nbconvert_exporter": "python",
   "pygments_lexer": "ipython3",
   "version": "3.6.5"
  }
 },
 "nbformat": 4,
 "nbformat_minor": 4
}
